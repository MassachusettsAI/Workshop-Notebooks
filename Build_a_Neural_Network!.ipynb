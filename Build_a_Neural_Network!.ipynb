{
  "cells": [
    {
      "cell_type": "markdown",
      "id": "8baadcca",
      "metadata": {
        "id": "8baadcca"
      },
      "source": [
        "<h1> NUMBER IDENTIFIER PROJECT </h1>\n",
        "<h3> Started February 28, 2022 and completed March 3, 2022 </h3>\n",
        "\n",
        "<p> The goal of this project is to train a neural network that can recognize the digits 0-9 </p>\n",
        "<p> This machine learning project is based on the MNIST dataset, which are 28 pixel by 28 pixel black/white images of digits 0-9. </p>\n",
        "<p> Uses pytorch library to gain access to operations that make programming a neural network easier and matplotlib to display results </p>\n"
      ]
    },
    {
      "cell_type": "code",
      "execution_count": null,
      "id": "a19048c5",
      "metadata": {
        "id": "a19048c5"
      },
      "outputs": [],
      "source": [
        "import torch\n",
        "import torch.nn as nn\n",
        "import torchvision\n",
        "import numpy as np\n",
        "import torch.nn.functional as F\n",
        "from torch.utils.data import Dataset, DataLoader, random_split, Subset\n",
        "from torchvision.datasets import ImageFolder\n",
        "import torchvision.transforms as tt\n",
        "from torchvision.utils import make_grid\n",
        "import matplotlib.pyplot as plt\n",
        "from matplotlib.image import imread\n",
        "import os\n",
        "import random\n",
        "from tqdm import tqdm"
      ]
    },
    {
      "cell_type": "code",
      "execution_count": null,
      "id": "ba2d1851",
      "metadata": {
        "id": "ba2d1851"
      },
      "outputs": [],
      "source": [
        "# Creating a dataset and dataloader for the MNIST dataset\n",
        "\n",
        "def load_mnist(batch_size=32, train=True):\n",
        "\n",
        "    to_tensor_transform = torchvision.transforms.ToTensor()\n",
        "\n",
        "\n",
        "    dataset = torchvision.datasets.MNIST(r'C:\\Users\\surya\\UMass Amherst\\CS389\\Homework 3\\data_hw3', train, to_tensor_transform, download=True)\n",
        "    dataloader = torch.utils.data.DataLoader(dataset, batch_size) #This creates an object that will help organize our data into batches\n",
        "    return dataset, dataloader"
      ]
    },
    {
      "cell_type": "code",
      "execution_count": null,
      "id": "009d4354",
      "metadata": {
        "id": "009d4354"
      },
      "outputs": [],
      "source": [
        "def plot_image_and_label(image, label):\n",
        "\n",
        "    '''\n",
        "    Takes in an image and label and shows them using matplotlib\n",
        "    this is used to visualize the data and also the outputs of our network\n",
        "    '''\n",
        "\n",
        "    plt.imshow(image)\n",
        "    if type(label) is not int:\n",
        "        _,predicted = torch.max(label,1)\n",
        "        plt.title(\"Best label = \" + str(predicted.item()) + \", with Score: \" + str(round(label[0][predicted].item() * 100,2)))\n",
        "    else:\n",
        "        plt.title(\"Label = \" + str(label))\n",
        "    plt.show()\n",
        "    return"
      ]
    },
    {
      "cell_type": "code",
      "execution_count": null,
      "id": "6ff1c254",
      "metadata": {
        "id": "6ff1c254",
        "outputId": "ade33d7b-d831-4b2d-9d01-ae701047ff8e",
        "colab": {
          "base_uri": "https://localhost:8080/",
          "height": 452
        }
      },
      "outputs": [
        {
          "output_type": "display_data",
          "data": {
            "text/plain": [
              "<Figure size 640x480 with 1 Axes>"
            ],
            "image/png": "[encoded data removed]"
          },
          "metadata": {}
        }
      ],
      "source": [
        "# A test to make sure the data loaded correctly\n",
        "\n",
        "train_dataset, train_dataloader = load_mnist(batch_size=1, train=True)\n",
        "ex_image, ex_label = train_dataset[random.randint(0,1000)]\n",
        "plot_image_and_label(ex_image.reshape(28,28), ex_label)"
      ]
    },
    {
      "cell_type": "markdown",
      "id": "dc598db5",
      "metadata": {
        "id": "dc598db5"
      },
      "source": [
        "Pytorch is built off of modules (called ```nn.Module```) which consist of 2 parts: The initialization (defined in ```__init__()``` -- note that this the python convention for initalizing classes) and the forward pass (defined aptly as ```forward()```)\n",
        "\n",
        "The first attempt at making the model will revolve around a single-layer perceptron, which is a single linear layer that takes in a flattened image. It's output will be a row of 10 probability scores, where each score corresponds to the likelihood of the image being eachone of the 10 digits. The highest probability score will be the prediction of the model\n",
        "\n",
        "**Let's see how the single-layer perceptron does!**\n",
        "\n",
        "To build a single layer perceptron, we can use the constructor `nn.Linear(size_of_input,size_of_output)` to create a Pytorch object for a simple linear layer. Try it below!\n",
        "\n",
        "\n",
        "\n"
      ]
    },
    {
      "cell_type": "code",
      "execution_count": null,
      "id": "fada9d60",
      "metadata": {
        "id": "fada9d60"
      },
      "outputs": [],
      "source": [
        "class MyPerceptron(nn.Module):\n",
        "    # Defines the layers used in the neural network along with other variables\n",
        "    def __init__(self, input_size, output_size):\n",
        "        super(MyPerceptron, self).__init__()\n",
        "\n",
        "        self.input_size = input_size\n",
        "\n",
        "        # TODO use nn.Linear(....) to create an attribute of self to store a linear layer\n",
        "        ######################################\n",
        "\n",
        "        ######################################\n",
        "    # Passes the input data x through a series of layers defined in __init__. The variable outputted at the end of this series is the prediction, which is returned\n",
        "    def forward(self, x):\n",
        "\n",
        "        x = x.view(-1, self.input_size) # this is how you flatten the image to fit into your linear layer. You don't have to change this line.\n",
        "\n",
        "        # TODO call the linear layer you created above as though it's a function. The input should be x.\n",
        "        # return the output of caling your linear layer\n",
        "        ######################################\n",
        "\n",
        "\n",
        "        ######################################"
      ]
    },
    {
      "cell_type": "code",
      "execution_count": null,
      "id": "8ab93508",
      "metadata": {
        "id": "8ab93508",
        "outputId": "9af4cc16-c842-426f-a4cd-31d06b3bde75",
        "colab": {
          "base_uri": "https://localhost:8080/",
          "height": 807
        }
      },
      "outputs": [
        {
          "output_type": "error",
          "ename": "TypeError",
          "evalue": "max() received an invalid combination of arguments - got (NoneType, int), but expected one of:\n * (Tensor input, *, Tensor out = None)\n * (Tensor input, Tensor other, *, Tensor out = None)\n * (Tensor input, int dim, bool keepdim = False, *, tuple of Tensors out = None)\n * (Tensor input, name dim, bool keepdim = False, *, tuple of Tensors out = None)\n",
          "traceback": [
            "\u001b[0;31m---------------------------------------------------------------------------\u001b[0m",
            "\u001b[0;31mTypeError\u001b[0m                                 Traceback (most recent call last)",
            "\u001b[0;32m<ipython-input-24-dd6766f65013>\u001b[0m in \u001b[0;36m<cell line: 5>\u001b[0;34m()\u001b[0m\n\u001b[1;32m      3\u001b[0m \u001b[0mtest_output\u001b[0m \u001b[0;34m=\u001b[0m \u001b[0mtest_model\u001b[0m\u001b[0;34m(\u001b[0m\u001b[0mex_image\u001b[0m\u001b[0;34m.\u001b[0m\u001b[0mflatten\u001b[0m\u001b[0;34m(\u001b[0m\u001b[0;34m)\u001b[0m\u001b[0;34m)\u001b[0m\u001b[0;34m\u001b[0m\u001b[0;34m\u001b[0m\u001b[0m\n\u001b[1;32m      4\u001b[0m \u001b[0;34m\u001b[0m\u001b[0m\n\u001b[0;32m----> 5\u001b[0;31m \u001b[0mplot_image_and_label\u001b[0m\u001b[0;34m(\u001b[0m\u001b[0mex_image\u001b[0m\u001b[0;34m.\u001b[0m\u001b[0mreshape\u001b[0m\u001b[0;34m(\u001b[0m\u001b[0;36m28\u001b[0m\u001b[0;34m,\u001b[0m\u001b[0;36m28\u001b[0m\u001b[0;34m)\u001b[0m\u001b[0;34m,\u001b[0m \u001b[0mtest_output\u001b[0m\u001b[0;34m)\u001b[0m\u001b[0;34m\u001b[0m\u001b[0;34m\u001b[0m\u001b[0m\n\u001b[0m",
            "\u001b[0;32m<ipython-input-21-3468ef507d0f>\u001b[0m in \u001b[0;36mplot_image_and_label\u001b[0;34m(image, label)\u001b[0m\n\u001b[1;32m      8\u001b[0m     \u001b[0mplt\u001b[0m\u001b[0;34m.\u001b[0m\u001b[0mimshow\u001b[0m\u001b[0;34m(\u001b[0m\u001b[0mimage\u001b[0m\u001b[0;34m)\u001b[0m\u001b[0;34m\u001b[0m\u001b[0;34m\u001b[0m\u001b[0m\n\u001b[1;32m      9\u001b[0m     \u001b[0;32mif\u001b[0m \u001b[0mtype\u001b[0m\u001b[0;34m(\u001b[0m\u001b[0mlabel\u001b[0m\u001b[0;34m)\u001b[0m \u001b[0;32mis\u001b[0m \u001b[0;32mnot\u001b[0m \u001b[0mint\u001b[0m\u001b[0;34m:\u001b[0m\u001b[0;34m\u001b[0m\u001b[0;34m\u001b[0m\u001b[0m\n\u001b[0;32m---> 10\u001b[0;31m         \u001b[0m_\u001b[0m\u001b[0;34m,\u001b[0m\u001b[0mpredicted\u001b[0m \u001b[0;34m=\u001b[0m \u001b[0mtorch\u001b[0m\u001b[0;34m.\u001b[0m\u001b[0mmax\u001b[0m\u001b[0;34m(\u001b[0m\u001b[0mlabel\u001b[0m\u001b[0;34m,\u001b[0m\u001b[0;36m1\u001b[0m\u001b[0;34m)\u001b[0m\u001b[0;34m\u001b[0m\u001b[0;34m\u001b[0m\u001b[0m\n\u001b[0m\u001b[1;32m     11\u001b[0m         \u001b[0mplt\u001b[0m\u001b[0;34m.\u001b[0m\u001b[0mtitle\u001b[0m\u001b[0;34m(\u001b[0m\u001b[0;34m\"Best label = \"\u001b[0m \u001b[0;34m+\u001b[0m \u001b[0mstr\u001b[0m\u001b[0;34m(\u001b[0m\u001b[0mpredicted\u001b[0m\u001b[0;34m.\u001b[0m\u001b[0mitem\u001b[0m\u001b[0;34m(\u001b[0m\u001b[0;34m)\u001b[0m\u001b[0;34m)\u001b[0m \u001b[0;34m+\u001b[0m \u001b[0;34m\", with Score: \"\u001b[0m \u001b[0;34m+\u001b[0m \u001b[0mstr\u001b[0m\u001b[0;34m(\u001b[0m\u001b[0mround\u001b[0m\u001b[0;34m(\u001b[0m\u001b[0mlabel\u001b[0m\u001b[0;34m[\u001b[0m\u001b[0;36m0\u001b[0m\u001b[0;34m]\u001b[0m\u001b[0;34m[\u001b[0m\u001b[0mpredicted\u001b[0m\u001b[0;34m]\u001b[0m\u001b[0;34m.\u001b[0m\u001b[0mitem\u001b[0m\u001b[0;34m(\u001b[0m\u001b[0;34m)\u001b[0m \u001b[0;34m*\u001b[0m \u001b[0;36m100\u001b[0m\u001b[0;34m,\u001b[0m\u001b[0;36m2\u001b[0m\u001b[0;34m)\u001b[0m\u001b[0;34m)\u001b[0m\u001b[0;34m)\u001b[0m\u001b[0;34m\u001b[0m\u001b[0;34m\u001b[0m\u001b[0m\n\u001b[1;32m     12\u001b[0m     \u001b[0;32melse\u001b[0m\u001b[0;34m:\u001b[0m\u001b[0;34m\u001b[0m\u001b[0;34m\u001b[0m\u001b[0m\n",
            "\u001b[0;31mTypeError\u001b[0m: max() received an invalid combination of arguments - got (NoneType, int), but expected one of:\n * (Tensor input, *, Tensor out = None)\n * (Tensor input, Tensor other, *, Tensor out = None)\n * (Tensor input, int dim, bool keepdim = False, *, tuple of Tensors out = None)\n * (Tensor input, name dim, bool keepdim = False, *, tuple of Tensors out = None)\n"
          ]
        },
        {
          "output_type": "display_data",
          "data": {
            "text/plain": [
              "<Figure size 640x480 with 1 Axes>"
            ],
            "image/png": "[encoded data removed]"
          },
          "metadata": {}
        }
      ],
      "source": [
        "# This takes our randomly initialized perceptron and sees its prediction on a random input from MNIST\n",
        "test_model = MyPerceptron(784, 10)\n",
        "test_output = test_model(ex_image.flatten())\n",
        "\n",
        "plot_image_and_label(ex_image.reshape(28,28), test_output)"
      ]
    },
    {
      "cell_type": "markdown",
      "id": "66cc9d6c",
      "metadata": {
        "id": "66cc9d6c"
      },
      "source": [
        "\n",
        "Amazing! It's not trained yet, but it can make predictions!\n",
        "\n",
        "Let's try making a Multi-Layer Perceptron(MLP)\n",
        "Since perceptrons work with linear operations, combining perceptrons would combine all the linear processes into one - still a linear operation. So this is basically the same as working with one perceptron.\n",
        "\n",
        "The way to utilize the extra capacity of multiple layers is to have non-linear function (activation functions) between each layer in the neural network/perceptron. Having the ability to model nonlinear operations greatly improves what, and modifying more weights can be helpful when trying to find more features that can help identify the digit correctly. It will also help the network with identifying relationships between variables that aren't neccesarily linear."
      ]
    },
    {
      "cell_type": "code",
      "execution_count": null,
      "id": "3408fbe4",
      "metadata": {
        "id": "3408fbe4"
      },
      "outputs": [],
      "source": [
        "class MyMLP(nn.Module):\n",
        "\n",
        "\n",
        "    def __init__(self, input_size, output_size):\n",
        "        super(MyMLP, self).__init__()\n",
        "\n",
        "        self.input_size = input_size # making the input size accessible\n",
        "        # TODO use nn.Linear(....) to create a series of linear layers\n",
        "        # Each sucsessive linear layer takes in as many values as the previous layer outputted (e.g. if the output size of layer 1 is 32, the input size of layer 2 is 32)\n",
        "                # TODO perform the forward pass of you model\n",
        "        # use the modules you initialized above (each should be used)\n",
        "        # You should also include the self.relu between each layer (including conv2d ones)\n",
        "        ######################################\n",
        "\n",
        "\n",
        "\n",
        "        ######################################\n",
        "\n",
        "        self.relu = nn.ReLU() # Nonlinearity between layers, this makes the model able to establish non-linear connections between variables.\n",
        "\n",
        "\n",
        "\n",
        "    def forward(self, x):\n",
        "\n",
        "        x = x.view(-1, self.input_size)   # This reshapes the input to work with the batches\n",
        "        #Call each of your layers like functions, each on the result of the last, starting by passing x into the first layer\n",
        "        #between layers, call self.relu(output_of_prev_layer)\n",
        "        #store final result in variable \"out\"\n",
        "        ###########\n",
        "\n",
        "\n",
        "        return out"
      ]
    },
    {
      "cell_type": "code",
      "execution_count": null,
      "id": "72fdf39b",
      "metadata": {
        "id": "72fdf39b"
      },
      "outputs": [],
      "source": [
        "# Shows the prediction of the model without training\n",
        "# Not very good huh? (though theres a small chance it is lol)\n",
        "\n",
        "test_model = MyMLP(784, 10)\n",
        "test_output = test_model(ex_image.flatten()) # Notice how we flatten the 2d image into 1d to use the MLP\n",
        "\n",
        "plot_image_and_label(ex_image.reshape(28,28), test_output)"
      ]
    },
    {
      "cell_type": "markdown",
      "id": "4d36d95d",
      "metadata": {
        "id": "4d36d95d"
      },
      "source": [
        "Still incorrect! The reason this model doesn't yet work as intended is because it hasn't been trained yet. The training will allow the model to learn from inputs and outputs, and improve the weights in each layer. Once the weights stop changing, this means that the model has found it's optimality, and the final pass through can be done to identify the digit correctly and with more confidence.\n",
        "\n",
        "The goal of training is to reduce the error, or \"loss\" of the model's predictions. The lower the loss, the more accurate the model will be. Different loss functions can be used to measure error, and the model will perform differently based on which one is implemented. In this case, `nn.CrossEntropyLoss()` will be used. `nn.CrossEntropyLoss` objects are passed the model's 10 probabilities of each number, as well as the correct answer (as a single integer). Feel free to change the loss function being used if you want to play around.\n"
      ]
    },
    {
      "cell_type": "markdown",
      "id": "9c560c4a",
      "metadata": {
        "id": "9c560c4a"
      },
      "source": [
        "## The Training Process\n",
        "\n",
        "\n",
        "*   Optimizer: an object from `torch.optim` in charge of changing the weights of your model  (usually `torch.optim.SGD or torch.optim.Adam`)\n",
        "*   Loss function: PyTorch object that accepts the prediction of your model and the label of the correct prediction, and calculates the error of your model's prediction\n",
        "\n",
        "\n",
        "```\n",
        "for each epoch:\n",
        "  for each batch of images and labels that the DataLoader gives us on one passthrough of the dataset:\n",
        "    1. Reset the optimizer\n",
        "    2. Use the model to make a prediction\n",
        "    3. Calculate loss on your model's prediction\n",
        "    4. call .backward() on the result of calculating the loss. This calculates the gradient and informs the optimizer how to change the weights\n",
        "    5. call optimizer.step() to update the weights based on the gradient.\n",
        "\n",
        "```\n",
        "\n",
        "### A Word on Gradient Descent:\n",
        "The training will be done through gradient descent, which updates the weights during the backpropogation step from the model's output/label/loss calculation back through the input, so the model can learn from the next piece of input-label data.\n",
        "\n",
        "While it would be nice to theoretically train until the gradient doesn't change, at this point which we know the loss should be at a minimum, this can take an infinitely long time. The gradient may not change much, but it will usually always change. So we repeat this backpropogation process for a certain number of epochs, which we can control. More epochs = more training = more accurate results, but also takes longer to train.\n",
        "\n",
        "The below code tests gradient descent with our model using CrossEntropyLoss. The gradient should be negative, as this would indicate that our loss function is decreasing, which is what we want when training our neural network."
      ]
    },
    {
      "cell_type": "code",
      "execution_count": null,
      "id": "a6668b7d",
      "metadata": {
        "id": "a6668b7d"
      },
      "outputs": [],
      "source": [
        "model = MyMLP(784, 10)      # Create model with input size 784 (28 by 28 images, with a 10-vector long output)\n",
        "lr=0.02                     # Learning rate represents by what factor the weights should update per pass through.\n",
        "\n",
        "## TODO Fill in the loss_function and optimizer below and run this cell to see if they are valid!\n",
        "# Hint: Use CrossEntropyLoss from the nn library and Stochastic Gradient Descent (SGD) from the torch.optim library, passing in your model parameters\n",
        "#############################################\n",
        "\n",
        "\n",
        "#############################################\n"
      ]
    },
    {
      "cell_type": "code",
      "execution_count": null,
      "id": "0911b2b2",
      "metadata": {
        "id": "0911b2b2"
      },
      "outputs": [],
      "source": [
        "# training function\n",
        "\n",
        "def training(model, loss_function, optimizer, train_dataloader, n_epochs, update_interval):\n",
        "\n",
        "    '''\n",
        "    Updates the parameters of the given model using the optimizer of choice to\n",
        "    reduce the given loss_function\n",
        "\n",
        "    This will iterate over the dataloader 'n_epochs' times training on each batch of images\n",
        "\n",
        "    To get the gradient (which is stored internally in the model) .backward() from the loss tensor is used, and for it to be applied\n",
        "    .step() is used on the optimizer\n",
        "\n",
        "    In between steps the gradient is zeroed so it isn't accidentally reused for the next iteration\n",
        "    '''\n",
        "\n",
        "    losses = []\n",
        "\n",
        "    for n in range(n_epochs):\n",
        "        for i, (image, label) in enumerate(tqdm(iter(train_dataloader))):\n",
        "\n",
        "            '''\n",
        "            Updates the parameters of the given model using the optimizer of choice to\n",
        "            reduce the given loss_function\n",
        "\n",
        "            This will iterate over the dataloader 'n_epochs' times training on each batch of images\n",
        "\n",
        "            To get the gradient (which is stored internally in the model) use .backward() from the loss tensor\n",
        "            and to apply it use .step() on the optimizer\n",
        "\n",
        "            In between steps you need to zero the gradient so it can be recalculated -- use .zero_grad for this\n",
        "            '''\n",
        "            # TODO Complete the training loop using the instructions above\n",
        "            # Hint: the above code essentially does one training step\n",
        "            ##########################\n",
        "\n",
        "\n",
        "\n",
        "\n",
        "\n",
        "            ##########################\n",
        "\n",
        "            if i % update_interval == 0:\n",
        "                losses.append(round(loss.item(), 2))\n",
        "\n",
        "    return model, losses\n",
        "\n"
      ]
    },
    {
      "cell_type": "code",
      "execution_count": null,
      "id": "f29ea618",
      "metadata": {
        "id": "f29ea618"
      },
      "outputs": [],
      "source": [
        "# Hyperparameter tuning\n",
        "\n",
        "lr = 0.10               # The size of the step taken when doing gradient descent - initially 0.02\n",
        "batch_size = 64         # The number of images being trained on at once - initially 128\n",
        "update_interval = 100   # The number of batches trained on before recording loss - initially 100\n",
        "n_epochs = 1            # The number of times we train through the entire dataset\n",
        "\n",
        "train_dataset, train_dataloader = load_mnist(batch_size=batch_size, train=True)\n",
        "\n",
        "model = MyMLP(784, 10)\n",
        "loss_function = nn.CrossEntropyLoss()\n",
        "optimizer = torch.optim.SGD(model.parameters(), lr=lr)\n",
        "\n",
        "trained_model, losses = training(model, loss_function, optimizer, train_dataloader, n_epochs=n_epochs, update_interval=update_interval)\n",
        "\n",
        "plt.plot(np.arange(len(losses)) * batch_size * update_interval, losses)\n",
        "plt.title(\"training curve\")\n",
        "plt.xlabel(\"number of images trained on\")\n",
        "plt.ylabel(\"loss\")\n",
        "plt.show()\n"
      ]
    },
    {
      "cell_type": "code",
      "execution_count": null,
      "id": "e6fe23e8",
      "metadata": {
        "id": "e6fe23e8"
      },
      "outputs": [],
      "source": [
        "trained_output = trained_model(ex_image.flatten())\n",
        "\n",
        "plot_image_and_label(ex_image.reshape(28,28), trained_output)"
      ]
    },
    {
      "cell_type": "markdown",
      "id": "d477617d",
      "metadata": {
        "id": "d477617d"
      },
      "source": [
        "The number is correctly identified, and the score is high, showing that the model is very confident that its answer is correct! However, to show that the model isn't just fit to this training example, and the rest of the training data, we will have to test it.\n",
        "\n",
        "The testing process is the same as training, except test accuracy and average loss are also calculated."
      ]
    },
    {
      "cell_type": "code",
      "execution_count": null,
      "id": "ffc5a564",
      "metadata": {
        "id": "ffc5a564"
      },
      "outputs": [],
      "source": [
        "def testing(model, loss_function, test_data):\n",
        "\n",
        "    '''\n",
        "    This function will test the given model on the given test_data\n",
        "    it will return the accuracy and the test loss (given by loss_function)\n",
        "    '''\n",
        "\n",
        "    sum_loss = 0\n",
        "    n_correct = 0\n",
        "    total = 0\n",
        "\n",
        "    for i, (image, label) in enumerate(tqdm(iter(test_data))):\n",
        "\n",
        "        pred = model(image)\n",
        "        loss = loss_function(pred, label)\n",
        "        sum_loss += loss.item()\n",
        "\n",
        "        _, predicted = torch.max(pred,1)\n",
        "        n_correct += (predicted == label).sum()\n",
        "        total += label.size(0)\n",
        "\n",
        "    test_acc = round(((n_correct / total).item() * 100), 2)\n",
        "    avg_loss = round(sum_loss / len(test_data), 2)\n",
        "\n",
        "    print(\"test accuracy:\", test_acc)\n",
        "    print(\"test loss:\", avg_loss )\n",
        "\n",
        "    return test_acc, avg_loss\n",
        "\n",
        "\n",
        "print(\"testing the previously trained model on test dataset of MNIST\")\n",
        "test_dataset, test_dataloader = load_mnist(batch_size=10000, train=False)\n",
        "_,_ = testing(trained_model, loss_function, test_dataloader)"
      ]
    },
    {
      "cell_type": "code",
      "execution_count": null,
      "id": "b60236ff",
      "metadata": {
        "id": "b60236ff"
      },
      "outputs": [],
      "source": [
        "def train_and_test(model, loss_function, optimizer, batch_size, update_interval, n_epochs):\n",
        "\n",
        "    _, train_dataloader = load_mnist(batch_size=batch_size, train=True)\n",
        "    trained_model, losses = training(model, loss_function, optimizer, train_dataloader, n_epochs=n_epochs, update_interval=update_interval)\n",
        "\n",
        "    _, test_dataloader = load_mnist(batch_size=10000, train=False)\n",
        "    test_acc, test_loss = testing(trained_model, loss_function, test_dataloader)\n",
        "\n",
        "    plt.plot(np.arange(len(losses)) * batch_size * update_interval, losses, color=\"b\", label=\"train loss\")\n",
        "    plt.hlines(test_loss, 0, len(losses) * batch_size * update_interval, color='r', label=\"test loss\")\n",
        "    plt.legend()\n",
        "    plt.title(\"training curve\")\n",
        "    plt.xlabel(\"number of images trained on\")\n",
        "    plt.ylabel(\"loss\")\n",
        "    plt.show()\n",
        "\n",
        "    return trained_model, test_loss\n",
        "\n"
      ]
    },
    {
      "cell_type": "markdown",
      "source": [
        "*Change* the hyperparameters to get the best results!"
      ],
      "metadata": {
        "id": "ff7njCv8CLAb"
      },
      "id": "ff7njCv8CLAb"
    },
    {
      "cell_type": "code",
      "execution_count": null,
      "id": "bf172a17",
      "metadata": {
        "id": "bf172a17"
      },
      "outputs": [],
      "source": [
        "# Hyperparameter tuning\n",
        "#CHANGE THESE 4 NUMBERS AND SEE HOW IT IMPACTS YOUR TRAINING GRAPH\n",
        "########################\n",
        "lr = 0.10               # The size of the step taken when doing gradient descent\n",
        "batch_size = 64        # The number of images being trained on at once\n",
        "update_interval = 100   # The number of batches trained on before recording loss\n",
        "n_epochs = 10            # The number of times we train through the entire dataset\n",
        "#####################\n",
        "\n",
        "model = MyMLP(784, 10)\n",
        "loss_function = nn.CrossEntropyLoss()#Change this if you want\n",
        "optimizer = torch.optim.SGD(model.parameters(), lr=lr)#Change this if you want\n",
        "\n",
        "_, _ = train_and_test(model, loss_function, optimizer, batch_size=batch_size, update_interval=update_interval, n_epochs=n_epochs)"
      ]
    },
    {
      "cell_type": "markdown",
      "id": "abbfadbc",
      "metadata": {
        "id": "abbfadbc"
      },
      "source": [
        "The testing loss ends up being about the same as the training loss, showing that the model is not overfit - it is accurate with both training and testing data."
      ]
    },
    {
      "cell_type": "markdown",
      "source": [
        "# Convolutional Neural Network (CNN)"
      ],
      "metadata": {
        "id": "YrU44p3r32lX"
      },
      "id": "YrU44p3r32lX"
    },
    {
      "cell_type": "code",
      "source": [
        "class MyCNN(nn.Module):\n",
        "\n",
        "    def __init__(self, input_size, output_size):\n",
        "        super(MyCNN, self).__init__()\n",
        "\n",
        "        self.input_size = input_size # making the input size accessible\n",
        "\n",
        "        # TODO initalize your layers here\n",
        "        # that makes up the model -- use nn.Conv2d : https://pytorch.org/docs/stable/generated/torch.nn.Conv2d.html\n",
        "        # Your model can use multiple conv2d layers, but keep track of the dimensions -- they can be tricky\n",
        "        # You can use more if you'd like, but you need at least 2 conv2d layers\n",
        "        #Try different kernel sizes, numbers of kernels, and strides\n",
        "        #the output number of kernels of one layer must == the input number of kernels of the next!\n",
        "        #################################\n",
        "\n",
        "\n",
        "\n",
        "\n",
        "        self.relu = nn.ReLU()       # you only need to define one relu, you can use this one\n",
        "\n",
        "        # You need to find what size input MLP you should use (hint: find the overall size of the output of the convs)\n",
        "        # Hint: How big is the output of your last layer when flattened?\n",
        "        ##############\n",
        "        #UNCOMMENT LINE BELOW AND ADD AN INTEGER\n",
        "        #cnn_out_size = YOUR_NUMBER_HERE\n",
        "        ##############\n",
        "\n",
        "        #################################\n",
        "        self.relu = nn.ReLU() #we gave you your ReLU this time\n",
        "\n",
        "        self.lin1 = nn.Linear(cnn_out_size, output_size)\n",
        "        # Add more Linear layers if you want! (recommended)\n",
        "        #if you do, remember to set a different output size for your first layer!\n",
        "\n",
        "\n",
        "    def forward(self, x):\n",
        "\n",
        "        x = x.view(-1, 1, 28, 28)   # This reshapes the input to work with the batches\n",
        "\n",
        "\n",
        "        #Call all of your Conv2d layers like functions, with ReLU calls in between\n",
        "        #Remember to store the result in the variable \"out\"\n",
        "        ##########################\n",
        "\n",
        "        ##########################\n",
        "\n",
        "        out = out.flatten()  # This is the flattening that we keep talking about (note that it will still be a batch on outputs)\n",
        "        #Call all of your Linear layers like functions, with ReLU calls in between\n",
        "        #Remember to store the result in the variable \"out\"\n",
        "        ##########################\n",
        "\n",
        "        ##########################\n",
        "\n",
        "        return out"
      ],
      "metadata": {
        "id": "qqz3n3Q_31n_"
      },
      "id": "qqz3n3Q_31n_",
      "execution_count": null,
      "outputs": []
    },
    {
      "cell_type": "markdown",
      "source": [
        "## Play around with your CNN!"
      ],
      "metadata": {
        "id": "ViQAbnclCB24"
      },
      "id": "ViQAbnclCB24"
    },
    {
      "cell_type": "code",
      "source": [
        "# Hyperparameter tuning\n",
        "#CHANGE THESE 4 NUMBERS AND SEE HOW IT IMPACTS YOUR TRAINING GRAPH\n",
        "########################\n",
        "lr = 0.10               # The size of the step taken when doing gradient descent\n",
        "batch_size = 64        # The number of images being trained on at once\n",
        "update_interval = 100   # The number of batches trained on before recording loss\n",
        "n_epochs = 10            # The number of times we train through the entire dataset\n",
        "#####################\n",
        "\n",
        "model = MyCNN(784, 10)\n",
        "loss_function = nn.CrossEntropyLoss()#Change this if you want\n",
        "optimizer = torch.optim.SGD(model.parameters(), lr=lr)#Change this if you want\n",
        "\n",
        "_, _ = train_and_test(model, loss_function, optimizer, batch_size=batch_size, update_interval=update_interval, n_epochs=n_epochs)"
      ],
      "metadata": {
        "id": "YobsAVcwCBGO"
      },
      "id": "YobsAVcwCBGO",
      "execution_count": null,
      "outputs": []
    }
  ],
  "metadata": {
    "kernelspec": {
      "display_name": "Python 3 (ipykernel)",
      "language": "python",
      "name": "python3"
    },
    "language_info": {
      "codemirror_mode": {
        "name": "ipython",
        "version": 3
      },
      "file_extension": ".py",
      "mimetype": "text/x-python",
      "name": "python",
      "nbconvert_exporter": "python",
      "pygments_lexer": "ipython3",
      "version": "3.11.2"
    },
    "colab": {
      "provenance": []
    }
  },
  "nbformat": 4,
  "nbformat_minor": 5
}