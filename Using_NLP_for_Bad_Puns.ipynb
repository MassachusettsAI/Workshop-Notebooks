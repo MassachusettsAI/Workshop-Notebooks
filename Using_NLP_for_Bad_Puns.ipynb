{
  "cells": [
    {
      "cell_type": "markdown",
      "metadata": {
        "id": "tW1ucGNiRD_l"
      },
      "source": [
        "##What do you call a...\n",
        "Finds new rhyming ways to say two-word phrases!\n",
        ">For example:\n",
        ">* play ground $\\rightarrow$ comeback tarmac\n",
        ">* wind shield $\\rightarrow$ rain restrain\n",
        ">* Bill Ray $\\rightarrow$ legislation illumination\n",
        "\n",
        "Google's [word2vec](https://drive.google.com/file/d/0B7XkCwpI5KDYNlNUTTlSS21pQmM/edit) model is used to find related words for each input.  \n",
        "Next the [pronouncing library](https://pypi.org/project/pronouncing/) is used to pair up rhyming results.  \n",
        "The ouput is creative, often amusing, word combinations that resemble the input phrase\n"
      ]
    },
    {
      "cell_type": "markdown",
      "metadata": {
        "id": "g9jW9SUh5z_w"
      },
      "source": [
        "Get imports"
      ]
    },
    {
      "cell_type": "code",
      "execution_count": null,
      "metadata": {
        "colab": {
          "base_uri": "https://localhost:8080/"
        },
        "id": "hgdVx60-530X",
        "outputId": "11211e5b-b32d-4761-8a6b-35ce97b5570a"
      },
      "outputs": [
        {
          "name": "stdout",
          "output_type": "stream",
          "text": [
            "Requirement already satisfied: gensim in /usr/local/lib/python3.7/dist-packages (3.6.0)\n",
            "Requirement already satisfied: smart-open>=1.2.1 in /usr/local/lib/python3.7/dist-packages (from gensim) (5.2.1)\n",
            "Requirement already satisfied: six>=1.5.0 in /usr/local/lib/python3.7/dist-packages (from gensim) (1.15.0)\n",
            "Requirement already satisfied: scipy>=0.18.1 in /usr/local/lib/python3.7/dist-packages (from gensim) (1.4.1)\n",
            "Requirement already satisfied: numpy>=1.11.3 in /usr/local/lib/python3.7/dist-packages (from gensim) (1.19.5)\n",
            "Collecting pronouncing\n",
            "  Downloading pronouncing-0.2.0.tar.gz (17 kB)\n",
            "Collecting cmudict>=0.4.0\n",
            "  Downloading cmudict-1.0.2-py2.py3-none-any.whl (939 kB)\n",
            "\u001b[K     |████████████████████████████████| 939 kB 23.8 MB/s \n",
            "\u001b[?25hBuilding wheels for collected packages: pronouncing\n",
            "  Building wheel for pronouncing (setup.py) ... \u001b[?25l\u001b[?25hdone\n",
            "  Created wheel for pronouncing: filename=pronouncing-0.2.0-py2.py3-none-any.whl size=6252 sha256=70939e4eb4d45f026694c00f1d5f59bde93fce1761675a4e8eb1551521efb1a7\n",
            "  Stored in directory: /root/.cache/pip/wheels/09/e8/c0/3606d42fdbf5f3871564eb6a353591a8f5deeed013fdb73921\n",
            "Successfully built pronouncing\n",
            "Installing collected packages: cmudict, pronouncing\n",
            "Successfully installed cmudict-1.0.2 pronouncing-0.2.0\n",
            "Collecting paramiko\n",
            "  Downloading paramiko-2.8.0-py2.py3-none-any.whl (206 kB)\n",
            "\u001b[K     |████████████████████████████████| 206 kB 36.5 MB/s \n",
            "\u001b[?25hCollecting pynacl>=1.0.1\n",
            "  Downloading PyNaCl-1.4.0-cp35-abi3-manylinux1_x86_64.whl (961 kB)\n",
            "\u001b[K     |████████████████████████████████| 961 kB 34.2 MB/s \n",
            "\u001b[?25hCollecting cryptography>=2.5\n",
            "  Downloading cryptography-35.0.0-cp36-abi3-manylinux_2_24_x86_64.whl (3.5 MB)\n",
            "\u001b[K     |████████████████████████████████| 3.5 MB 46.9 MB/s \n",
            "\u001b[?25hCollecting bcrypt>=3.1.3\n",
            "  Downloading bcrypt-3.2.0-cp36-abi3-manylinux2010_x86_64.whl (63 kB)\n",
            "\u001b[K     |████████████████████████████████| 63 kB 2.7 MB/s \n",
            "\u001b[?25hRequirement already satisfied: six>=1.4.1 in /usr/local/lib/python3.7/dist-packages (from bcrypt>=3.1.3->paramiko) (1.15.0)\n",
            "Requirement already satisfied: cffi>=1.1 in /usr/local/lib/python3.7/dist-packages (from bcrypt>=3.1.3->paramiko) (1.14.6)\n",
            "Requirement already satisfied: pycparser in /usr/local/lib/python3.7/dist-packages (from cffi>=1.1->bcrypt>=3.1.3->paramiko) (2.20)\n",
            "Installing collected packages: pynacl, cryptography, bcrypt, paramiko\n",
            "Successfully installed bcrypt-3.2.0 cryptography-35.0.0 paramiko-2.8.0 pynacl-1.4.0\n",
            "Requirement already satisfied: gdown in /usr/local/lib/python3.7/dist-packages (3.6.4)\n",
            "Requirement already satisfied: requests in /usr/local/lib/python3.7/dist-packages (from gdown) (2.23.0)\n",
            "Requirement already satisfied: tqdm in /usr/local/lib/python3.7/dist-packages (from gdown) (4.62.3)\n",
            "Requirement already satisfied: six in /usr/local/lib/python3.7/dist-packages (from gdown) (1.15.0)\n",
            "Requirement already satisfied: idna<3,>=2.5 in /usr/local/lib/python3.7/dist-packages (from requests->gdown) (2.10)\n",
            "Requirement already satisfied: certifi>=2017.4.17 in /usr/local/lib/python3.7/dist-packages (from requests->gdown) (2021.5.30)\n",
            "Requirement already satisfied: chardet<4,>=3.0.2 in /usr/local/lib/python3.7/dist-packages (from requests->gdown) (3.0.4)\n",
            "Requirement already satisfied: urllib3!=1.25.0,!=1.25.1,<1.26,>=1.21.1 in /usr/local/lib/python3.7/dist-packages (from requests->gdown) (1.24.3)\n"
          ]
        }
      ],
      "source": [
        "!pip install gensim\n",
        "!pip install pronouncing\n",
        "!pip install paramiko\n",
        "!pip install gdown\n",
        "\n",
        "import gensim\n",
        "import pronouncing\n",
        "import gdown"
      ]
    },
    {
      "cell_type": "markdown",
      "metadata": {
        "id": "JmE3tsoz52r3"
      },
      "source": [
        "Download the word2vec model and load 250,000 words"
      ]
    },
    {
      "cell_type": "code",
      "execution_count": null,
      "metadata": {
        "colab": {
          "base_uri": "https://localhost:8080/"
        },
        "id": "QulOnq-C6T_E",
        "outputId": "c4bb6a3f-a08d-4461-fcd7-82bf60338d11"
      },
      "outputs": [
        {
          "name": "stderr",
          "output_type": "stream",
          "text": [
            "Downloading...\n",
            "From: https://drive.google.com/uc?id=0B7XkCwpI5KDYNlNUTTlSS21pQmM\n",
            "To: /content/googlemodel.gz\n",
            "100%|██████████| 1.65G/1.65G [00:11<00:00, 147MB/s]\n"
          ]
        },
        {
          "name": "stdout",
          "output_type": "stream",
          "text": [
            "loading model...\n",
            "model loaded.\n"
          ]
        }
      ],
      "source": [
        "# gdown.download(\"https://drive.google.com/uc?id=1wvRpiGriuvqwHV3dkHyZQKliWQNLSUmn\", \"./googlemodel.gz\", False)\n",
        "gdown.download(\"https://drive.google.com/uc?id=0B7XkCwpI5KDYNlNUTTlSS21pQmM\", \"./googlemodel.gz\", False)\n",
        "# gdown.download(\"https://drive.google.com/file/d/0B7XkCwpI5KDYNlNUTTlSS21pQmM/edit?resourcekey=0-wjGZdNAUop6WykTtMip30g\", \"./googlemodel.gz\", False)\n",
        "print(\"loading model...\")\n",
        "model = gensim.models.KeyedVectors.load_word2vec_format(\"./content/googlemodel.gz\", binary=True, limit=250000)\n",
        "print(\"model loaded.\")"
      ]
    },
    {
      "cell_type": "markdown",
      "metadata": {
        "id": "wnnNUsVR65Jq"
      },
      "source": [
        "Define `reword(string, string, (int))`  \n",
        "Uses google's word2vec and the pronouncing library to find two words that rhyme with each other and are related to the input terms  \n",
        "A larger `increment` value will cause more results to be printed"
      ]
    },
    {
      "cell_type": "code",
      "execution_count": null,
      "metadata": {
        "id": "ky8TZlRX7M39"
      },
      "outputs": [],
      "source": [
        "def reword(word1, word2, increment=50):\n",
        "    try:\n",
        "        found = False\n",
        "        count = 0\n",
        "        while not found:\n",
        "            count += increment\n",
        "            similar1 = model.most_similar(positive=word1, topn=count)\n",
        "            similar2 = model.most_similar(positive=word2, topn=count)\n",
        "            for sim1 in similar1:\n",
        "                for sim2 in similar2:\n",
        "                    if sim1[0] in pronouncing.rhymes(sim2[0]) or sim2[0] in pronouncing.rhymes(sim1[0]):\n",
        "                        match1 = sim1[0].lower()\n",
        "                        match2 = sim2[0].lower()\n",
        "                        if match1 != match2:\n",
        "                            print(\"\\t\", sim1[0], sim2[0])\n",
        "                            found = True\n",
        "    except:\n",
        "        print(\"Unknown Word\")"
      ]
    },
    {
      "cell_type": "markdown",
      "metadata": {
        "id": "QTfae6hX7P6z"
      },
      "source": [
        "Continues to prompt the user for two words to `reword`  \n",
        "the user can input a third int argument to specify the `increment` value"
      ]
    },
    {
      "cell_type": "code",
      "execution_count": null,
      "metadata": {
        "colab": {
          "background_save": true,
          "base_uri": "https://localhost:8080/"
        },
        "id": "V9jD08697Yzp",
        "outputId": "d88de12d-915d-45bb-d1bb-f6c19b00a681"
      },
      "outputs": [
        {
          "name": "stdout",
          "output_type": "stream",
          "text": [
            "Wrong format\n",
            "it's called a...\n",
            "\t slight delight\n",
            "it's called a...\n",
            "Unknown Word\n",
            "it's called a...\n",
            "\t win grin\n",
            "\t wins grins\n",
            "\t Winning grinning\n",
            "\t Wins grins\n",
            "it's called a...\n",
            "\t greek clique\n",
            "\t jock bloc\n",
            "\t horseplay birthday\n",
            "it's called a...\n",
            "\t clever endeavor\n",
            "\t neat feat\n",
            "it's called a...\n",
            "\t midsize apologize\n",
            "\t fraction distraction\n",
            "\t fraction distraction\n",
            "\t midsize apologize\n",
            "\t fraction distraction\n",
            "\t lot tot\n",
            "\t maybe baby\n",
            "\t tad lad\n",
            "\t tad dad\n",
            "\t tad Dad\n",
            "\t some mum\n",
            "\t scant aunt\n",
            "\t no bro\n",
            "\t so bro\n",
            "\t lots tots\n",
            "\t anyway fiance\n",
            "\t nice niece\n",
            "\t though bro\n",
            "\t Maybe baby\n",
            "\t hey fiance\n",
            "\t got tot\n",
            "\t than man\n",
            "\t like tyke\n",
            "\t alot tot\n",
            "\t rather mother\n",
            "\t rather brother\n",
            "\t not tot\n",
            "\t Scant aunt\n",
            "\t that brat\n",
            "\t I guy\n",
            "\t OK fiance\n",
            "\t alas lass\n",
            "\t y'know bro\n",
            "\t okay fiance\n",
            "\t glad lad\n",
            "\t glad dad\n",
            "\t glad Dad\n",
            "\t when Aiden\n",
            "it's called a...\n",
            "\t lot tot\n",
            "\t maybe baby\n",
            "\t tad lad\n",
            "\t tad dad\n",
            "\t scant aunt\n",
            "\t nice niece\n",
            "it's called a...\n",
            "Unknown Word\n",
            "it's called a...\n",
            "\t unheard Word\n",
            "\t unheard WORD\n",
            "it's called a...\n",
            "\t slow Peugeot\n",
            "\t speedy Chevy\n",
            "\t cheap Jeep\n",
            "\t laterally Chevy\n",
            "it's called a...\n",
            "\t staggering hamstring\n",
            "it's called a...\n",
            "\t chilly really\n",
            "it's called a...\n",
            "\t taller caller\n",
            "\t wingspan clergyman\n",
            "\t blond blonde\n",
            "\t thick chick\n",
            "\t erect suspect\n",
            "it's called a...\n",
            "\t revolutionary Blackberry\n",
            "\t revolutionary BlackBerry\n",
            "\t temporary Blackberry\n",
            "\t temporary BlackBerry\n",
            "\t upgrade prepaid\n",
            "Wrong format\n",
            "it's called a...\n",
            "Unknown Word\n",
            "it's called a...\n",
            "\t snow crow\n",
            "\t murky turkey\n",
            "\t unstuck duck\n",
            "it's called a...\n",
            "\t score floor\n",
            "\t compete feet\n",
            "\t ball wall\n",
            "\t beat feet\n",
            "\t outscore floor\n",
            "Wrong format\n",
            "it's called a...\n",
            "\t tremendous horrendous\n",
            "it's called a...\n",
            "\t tear chandelier\n",
            "it's called a...\n",
            "\t nowadays canapes\n",
            "\t swish dish\n",
            "\t frill Grill\n",
            "\t nowadays canapes\n",
            "\t nowadays entrees\n",
            "\t anyway entree\n",
            "\t anyway matinee\n",
            "\t workaday entree\n",
            "\t workaday matinee\n",
            "\t trendiest feast\n",
            "\t gourmet entree\n",
            "\t gourmet matinee\n",
            "\t highbrow luau\n",
            "\t highbrow Luau\n",
            "\t hey buffet\n",
            "\t hey soiree\n",
            "\t hey Soiree\n",
            "\t hey filet\n",
            "\t passe buffet\n",
            "\t passe soiree\n",
            "\t passe Soiree\n",
            "\t passe filet\n",
            "\t Nowadays canapes\n",
            "\t Nowadays entrees\n",
            "\t overdo fondue\n",
            "it's called a...\n",
            "\t oversize rise\n",
            "it's called a...\n",
            "\t Unpaid aide\n",
            "\t paid aide\n",
            "\t underpaid aide\n",
            "\t repaid aide\n",
            "\t Unpaid aide\n",
            "\t paid aide\n",
            "\t pay MBA\n",
            "\t underpaid aide\n",
            "\t uncompensated graduated\n",
            "\t repay MBA\n",
            "\t repaid aide\n",
            "\t lien dean\n",
            "\t overpaid aide\n",
            "\t accumulated graduated\n",
            "\t Paid aide\n",
            "\t debt cadet\n",
            "\t creditor editor\n",
            "\t extortionate classmate\n",
            "\t extortionate affiliate\n",
            "\t extortionate roommate\n",
            "\t rehired Hired\n",
            "\t rehired hired\n",
            "\t housekeeper bookkeeper\n",
            "\t receivership internship\n",
            "\t receivership Internship\n",
            "\t receivership apprenticeship\n",
            "\t receivership ambassadorship\n",
            "\t receivership editorship\n",
            "\t involuntary emissary\n",
            "\t involuntary functionary\n"
          ]
        }
      ],
      "source": [
        "while True:\n",
        "    words = input(\"What do you call a \").split(\" \")\n",
        "    if len(words) != 2:\n",
        "        if (len(words) == 3 and words[2].isdecimal()):\n",
        "            reword(words[0], words[1], int(words[2]))\n",
        "        else:\n",
        "            print(\"Wrong format\")\n",
        "    else:\n",
        "        print(\"it's called a...\")\n",
        "        reword(words[0], words[1])"
      ]
    }
  ],
  "metadata": {
    "colab": {
      "provenance": []
    },
    "kernelspec": {
      "display_name": "Python 3",
      "name": "python3"
    }
  },
  "nbformat": 4,
  "nbformat_minor": 0
}