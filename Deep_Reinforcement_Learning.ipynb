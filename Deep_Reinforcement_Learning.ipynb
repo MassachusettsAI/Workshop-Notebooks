{
  "cells": [
    {
      "cell_type": "code",
      "execution_count": null,
      "metadata": {
        "id": "0FL4WQiea3v3"
      },
      "outputs": [],
      "source": [
        "# For tips on running notebooks in Google Colab, see\n",
        "# https://pytorch.org/tutorials/beginner/colab\n",
        "%matplotlib inline"
      ]
    },
    {
      "cell_type": "markdown",
      "metadata": {
        "id": "od7nz6JEa3v-"
      },
      "source": [
        "\n",
        "# Reinforcement Learning (DQN) Tutorial\n",
        "**Author**: [Adam Paszke](https://github.com/apaszke)\n",
        "            [Mark Towers](https://github.com/pseudo-rnd-thoughts)\n",
        "            [Ryan Boldi](https://github.com/ryanboldi)\n",
        "\n",
        "\n",
        "This tutorial shows how to use PyTorch to train a Deep Q Learning (DQN) agent\n",
        "on the CartPole-v1 task from [Gymnasium](https://www.gymnasium.farama.org)_.\n",
        "\n",
        "**Task**\n",
        "\n",
        "The agent has to decide between two actions - moving the cart left or\n",
        "right - so that the pole attached to it stays upright. You can find more\n",
        "information about the environment and other more challenging environments at\n",
        "[Gymnasium's website](https://gymnasium.farama.org/environments/classic_control/cart_pole/)_.\n",
        "\n",
        "![](https://gymnasium.farama.org/_images/cart_pole.gif)\n",
        "\n",
        "As the agent observes the current state of the environment and chooses\n",
        "an action, the environment *transitions* to a new state, and also\n",
        "returns a reward that indicates the consequences of the action. In this\n",
        "task, rewards are +1 for every incremental timestep and the environment\n",
        "terminates if the pole falls over too far or the cart moves more than 2.4\n",
        "units away from center. This means better performing scenarios will run\n",
        "for longer duration, accumulating larger return.\n",
        "\n",
        "The CartPole task is designed so that the inputs to the agent are 4 real\n",
        "values representing the environment state (position, velocity, etc.).\n",
        "We take these 4 inputs without any scaling and pass them through a\n",
        "small fully-connected network with 2 outputs, one for each action.\n",
        "The network is trained to predict the expected value for each action,\n",
        "given the input state. The action with the highest expected value is\n",
        "then chosen.\n",
        "\n",
        "\n",
        "**Packages**\n",
        "\n",
        "\n",
        "First, let's import needed packages. Firstly, we need\n",
        "[gymnasium](https://gymnasium.farama.org/)_ for the environment,\n",
        "installed by using `pip`. This is a fork of the original OpenAI\n",
        "Gym project and maintained by the same team since Gym v0.19.\n",
        "If you are running this in Google Colab, run:\n"
      ]
    },
    {
      "cell_type": "code",
      "execution_count": null,
      "metadata": {
        "colab": {
          "background_save": true,
          "base_uri": "https://localhost:8080/"
        },
        "id": "3rASjEMEa3wE",
        "outputId": "7b6cdd96-5eed-4989-d3ef-3b4c002060ad"
      },
      "outputs": [
        {
          "name": "stdout",
          "output_type": "stream",
          "text": [
            "Collecting gymnasium[classic_control]\n",
            "  Downloading gymnasium-1.0.0-py3-none-any.whl.metadata (9.5 kB)\n",
            "Requirement already satisfied: numpy>=1.21.0 in /usr/local/lib/python3.10/dist-packages (from gymnasium[classic_control]) (1.26.4)\n",
            "Requirement already satisfied: cloudpickle>=1.2.0 in /usr/local/lib/python3.10/dist-packages (from gymnasium[classic_control]) (3.1.0)\n",
            "Requirement already satisfied: typing-extensions>=4.3.0 in /usr/local/lib/python3.10/dist-packages (from gymnasium[classic_control]) (4.12.2)\n",
            "Collecting farama-notifications>=0.0.1 (from gymnasium[classic_control])\n",
            "  Downloading Farama_Notifications-0.0.4-py3-none-any.whl.metadata (558 bytes)\n",
            "Requirement already satisfied: pygame>=2.1.3 in /usr/local/lib/python3.10/dist-packages (from gymnasium[classic_control]) (2.6.1)\n",
            "Downloading Farama_Notifications-0.0.4-py3-none-any.whl (2.5 kB)\n",
            "Downloading gymnasium-1.0.0-py3-none-any.whl (958 kB)\n",
            "   ━━━━━━━━━━━━━━━━━━━━━━━━━━━━━━━━━━━━━━━━ 958.1/958.1 kB 23.5 MB/s eta 0:00:00\n",
            "Installing collected packages: farama-notifications, gymnasium\n",
            "Successfully installed farama-notifications-0.0.4 gymnasium-1.0.0\n",
            "Collecting pyvirtualdisplay\n",
            "  Downloading PyVirtualDisplay-3.0-py3-none-any.whl.metadata (943 bytes)\n",
            "Downloading PyVirtualDisplay-3.0-py3-none-any.whl (15 kB)\n",
            "Installing collected packages: pyvirtualdisplay\n",
            "Successfully installed pyvirtualdisplay-3.0\n",
            "Reading package lists...\n",
            "Building dependency tree...\n",
            "Reading state information...\n",
            "The following additional packages will be installed:\n",
            "  libfontenc1 libxfont2 libxkbfile1 x11-xkb-utils xfonts-base xfonts-encodings\n",
            "  xfonts-utils xserver-common\n",
            "The following NEW packages will be installed:\n",
            "  libfontenc1 libxfont2 libxkbfile1 x11-xkb-utils xfonts-base xfonts-encodings\n",
            "  xfonts-utils xserver-common xvfb\n",
            "0 upgraded, 9 newly installed, 0 to remove and 49 not upgraded.\n",
            "Need to get 7,815 kB of archives.\n",
            "After this operation, 11.9 MB of additional disk space will be used.\n",
            "Get:1 http://archive.ubuntu.com/ubuntu jammy/main amd64 libfontenc1 amd64 1:1.1.4-1build3 [14.7 kB]\n",
            "Get:2 http://archive.ubuntu.com/ubuntu jammy/main amd64 libxfont2 amd64 1:2.0.5-1build1 [94.5 kB]\n",
            "Get:3 http://archive.ubuntu.com/ubuntu jammy/main amd64 libxkbfile1 amd64 1:1.1.0-1build3 [71.8 kB]\n",
            "Get:4 http://archive.ubuntu.com/ubuntu jammy/main amd64 x11-xkb-utils amd64 7.7+5build4 [172 kB]\n",
            "Get:5 http://archive.ubuntu.com/ubuntu jammy/main amd64 xfonts-encodings all 1:1.0.5-0ubuntu2 [578 kB]\n",
            "Get:6 http://archive.ubuntu.com/ubuntu jammy/main amd64 xfonts-utils amd64 1:7.7+6build2 [94.6 kB]\n",
            "Get:7 http://archive.ubuntu.com/ubuntu jammy/main amd64 xfonts-base all 1:1.0.5 [5,896 kB]\n",
            "Get:8 http://archive.ubuntu.com/ubuntu jammy-updates/main amd64 xserver-common all 2:21.1.4-2ubuntu1.7~22.04.12 [28.7 kB]\n",
            "Get:9 http://archive.ubuntu.com/ubuntu jammy-updates/universe amd64 xvfb amd64 2:21.1.4-2ubuntu1.7~22.04.12 [864 kB]\n",
            "Fetched 7,815 kB in 2s (3,597 kB/s)\n",
            "Selecting previously unselected package libfontenc1:amd64.\r\n",
            "(Reading database ... \r(Reading database ... 5%\r(Reading database ... 10%\r(Reading database ... 15%\r(Reading database ... 20%\r(Reading database ... 25%\r(Reading database ... 30%\r(Reading database ... 35%\r(Reading database ... 40%\r(Reading database ... 45%\r(Reading database ... 50%\r(Reading database ... 55%\r(Reading database ... 60%\r(Reading database ... 65%\r(Reading database ... 70%\r(Reading database ... 75%\r(Reading database ... 80%\r(Reading database ... 85%\r(Reading database ... 90%\r(Reading database ... 95%\r(Reading database ... 100%\r(Reading database ... 123630 files and directories currently installed.)\r\n",
            "Preparing to unpack .../0-libfontenc1_1%3a1.1.4-1build3_amd64.deb ...\r\n",
            "Unpacking libfontenc1:amd64 (1:1.1.4-1build3) ...\r\n",
            "Selecting previously unselected package libxfont2:amd64.\r\n",
            "Preparing to unpack .../1-libxfont2_1%3a2.0.5-1build1_amd64.deb ...\r\n",
            "Unpacking libxfont2:amd64 (1:2.0.5-1build1) ...\r\n",
            "Selecting previously unselected package libxkbfile1:amd64.\r\n",
            "Preparing to unpack .../2-libxkbfile1_1%3a1.1.0-1build3_amd64.deb ...\r\n",
            "Unpacking libxkbfile1:amd64 (1:1.1.0-1build3) ...\r\n",
            "Selecting previously unselected package x11-xkb-utils.\r\n",
            "Preparing to unpack .../3-x11-xkb-utils_7.7+5build4_amd64.deb ...\r\n",
            "Unpacking x11-xkb-utils (7.7+5build4) ...\r\n",
            "Selecting previously unselected package xfonts-encodings.\r\n",
            "Preparing to unpack .../4-xfonts-encodings_1%3a1.0.5-0ubuntu2_all.deb ...\r\n",
            "Unpacking xfonts-encodings (1:1.0.5-0ubuntu2) ...\r\n",
            "Selecting previously unselected package xfonts-utils.\r\n",
            "Preparing to unpack .../5-xfonts-utils_1%3a7.7+6build2_amd64.deb ...\r\n",
            "Unpacking xfonts-utils (1:7.7+6build2) ...\r\n",
            "Selecting previously unselected package xfonts-base.\r\n",
            "Preparing to unpack .../6-xfonts-base_1%3a1.0.5_all.deb ...\r\n",
            "Unpacking xfonts-base (1:1.0.5) ...\r\n",
            "Selecting previously unselected package xserver-common.\r\n",
            "Preparing to unpack .../7-xserver-common_2%3a21.1.4-2ubuntu1.7~22.04.12_all.deb ...\r\n",
            "Unpacking xserver-common (2:21.1.4-2ubuntu1.7~22.04.12) ...\r\n",
            "Selecting previously unselected package xvfb.\r\n",
            "Preparing to unpack .../8-xvfb_2%3a21.1.4-2ubuntu1.7~22.04.12_amd64.deb ...\r\n",
            "Unpacking xvfb (2:21.1.4-2ubuntu1.7~22.04.12) ...\r\n",
            "Setting up libfontenc1:amd64 (1:1.1.4-1build3) ...\r\n",
            "Setting up xfonts-encodings (1:1.0.5-0ubuntu2) ...\r\n",
            "Setting up libxkbfile1:amd64 (1:1.1.0-1build3) ...\r\n",
            "Setting up libxfont2:amd64 (1:2.0.5-1build1) ...\r\n",
            "Setting up x11-xkb-utils (7.7+5build4) ...\r\n",
            "Setting up xfonts-utils (1:7.7+6build2) ...\r\n",
            "Setting up xfonts-base (1:1.0.5) ...\r\n",
            "Setting up xserver-common (2:21.1.4-2ubuntu1.7~22.04.12) ...\r\n",
            "Setting up xvfb (2:21.1.4-2ubuntu1.7~22.04.12) ...\r\n",
            "Processing triggers for man-db (2.10.2-1) ...\r\n",
            "Processing triggers for fontconfig (2.13.1-4.2ubuntu5) ...\r\n",
            "Processing triggers for libc-bin (2.35-0ubuntu3.4) ...\r\n",
            "/sbin/ldconfig.real: /usr/local/lib/libtbbbind_2_5.so.3 is not a symbolic link\r\n",
            "\r\n",
            "/sbin/ldconfig.real: /usr/local/lib/libtbbmalloc_proxy.so.2 is not a symbolic link\r\n",
            "\r\n",
            "/sbin/ldconfig.real: /usr/local/lib/libtbbbind.so.3 is not a symbolic link\r\n",
            "\r\n",
            "/sbin/ldconfig.real: /usr/local/lib/libur_loader.so.0 is not a symbolic link\r\n",
            "\r\n",
            "/sbin/ldconfig.real: /usr/local/lib/libtcm_debug.so.1 is not a symbolic link\r\n",
            "\r\n",
            "/sbin/ldconfig.real: /usr/local/lib/libur_adapter_level_zero.so.0 is not a symbolic link\r\n",
            "\r\n",
            "/sbin/ldconfig.real: /usr/local/lib/libtbbmalloc.so.2 is not a symbolic link\r\n",
            "\r\n",
            "/sbin/ldconfig.real: /usr/local/lib/libtbb.so.12 is not a symbolic link\r\n",
            "\r\n",
            "/sbin/ldconfig.real: /usr/local/lib/libtcm.so.1 is not a symbolic link\r\n",
            "\r\n",
            "/sbin/ldconfig.real: /usr/local/lib/libhwloc.so.15 is not a symbolic link\r\n",
            "\r\n",
            "/sbin/ldconfig.real: /usr/local/lib/libumf.so.0 is not a symbolic link\r\n",
            "\r\n",
            "/sbin/ldconfig.real: /usr/local/lib/libur_adapter_opencl.so.0 is not a symbolic link\r\n",
            "\r\n",
            "/sbin/ldconfig.real: /usr/local/lib/libtbbbind_2_0.so.3 is not a symbolic link\r\n",
            "\r\n"
          ]
        },
        {
          "name": "stderr",
          "output_type": "stream",
          "text": [
            "debconf: unable to initialize frontend: Dialog\n",
            "debconf: (No usable dialog-like program is installed, so the dialog based frontend cannot be used. at /usr/share/perl5/Debconf/FrontEnd/Dialog.pm line 78, <> line 9.)\n",
            "debconf: falling back to frontend: Readline\n",
            "debconf: unable to initialize frontend: Readline\n",
            "debconf: (This frontend requires a controlling tty.)\n",
            "debconf: falling back to frontend: Teletype\n",
            "dpkg-preconfigure: unable to re-open stdin: \n"
          ]
        }
      ],
      "source": [
        "%%bash\n",
        "pip3 install gymnasium[classic_control]\n",
        "python -m pip install pyvirtualdisplay\n",
        "sudo apt-get install xvfb"
      ]
    },
    {
      "cell_type": "markdown",
      "metadata": {
        "id": "juUagySWa3wF"
      },
      "source": [
        "We'll also use the following from PyTorch:\n",
        "\n",
        "-  neural networks (``torch.nn``)\n",
        "-  optimization (``torch.optim``)\n",
        "-  automatic differentiation (``torch.autograd``)\n"
      ]
    },
    {
      "cell_type": "code",
      "execution_count": null,
      "metadata": {
        "id": "QL7rbZLUa3wG"
      },
      "outputs": [],
      "source": [
        "import gymnasium as gym\n",
        "import math\n",
        "import random\n",
        "import matplotlib\n",
        "import matplotlib.pyplot as plt\n",
        "from collections import namedtuple, deque\n",
        "from itertools import count\n",
        "\n",
        "import torch\n",
        "import torch.nn as nn\n",
        "import torch.optim as optim\n",
        "import torch.nn.functional as F\n",
        "\n",
        "#video stuff\n",
        "import glob\n",
        "import io\n",
        "import base64\n",
        "from IPython.display import HTML\n",
        "\n",
        "env = gym.make(\"CartPole-v1\", render_mode=\"rgb_array\")\n",
        "\n",
        "# set up matplotlib\n",
        "is_ipython = 'inline' in matplotlib.get_backend()\n",
        "if is_ipython:\n",
        "    from IPython import display\n",
        "\n",
        "plt.ion()\n",
        "\n",
        "# if GPU is to be used\n",
        "device = torch.device(\"cuda\" if torch.cuda.is_available() else \"cpu\")"
      ]
    },
    {
      "cell_type": "markdown",
      "metadata": {
        "id": "go9f2avCa3wH"
      },
      "source": [
        "## Replay Memory\n",
        "\n",
        "We'll be using experience replay memory for training our DQN. It stores\n",
        "the transitions that the agent observes, allowing us to reuse this data\n",
        "later. By sampling from it randomly, the transitions that build up a\n",
        "batch are decorrelated. It has been shown that this greatly stabilizes\n",
        "and improves the DQN training procedure.\n",
        "\n",
        "For this, we're going to need two classes:\n",
        "\n",
        "-  ``Transition`` - a named tuple representing a single transition in\n",
        "   our environment. It essentially maps (state, action) pairs\n",
        "   to their (next_state, reward) result, with the state being the\n",
        "   screen difference image as described later on.\n",
        "-  ``ReplayMemory`` - a cyclic buffer of bounded size that holds the\n",
        "   transitions observed recently. It also implements a ``.sample()``\n",
        "   method for selecting a random batch of transitions for training.\n",
        "\n",
        "\n"
      ]
    },
    {
      "cell_type": "code",
      "execution_count": null,
      "metadata": {
        "id": "tBrPaiQsa3wI"
      },
      "outputs": [],
      "source": [
        "Transition = namedtuple('Transition',\n",
        "                        ('state', 'action', 'next_state', 'reward'))\n",
        "\n",
        "\n",
        "class ReplayMemory(object):\n",
        "\n",
        "    def __init__(self, capacity):\n",
        "        self.memory = deque([], maxlen=capacity)\n",
        "\n",
        "    def push(self, *args):\n",
        "        \"\"\"Save a transition\"\"\"\n",
        "        self.memory.append(Transition(*args))\n",
        "\n",
        "    def sample(self, batch_size):\n",
        "        return random.sample(self.memory, batch_size)\n",
        "\n",
        "    def __len__(self):\n",
        "        return len(self.memory)"
      ]
    },
    {
      "cell_type": "markdown",
      "metadata": {
        "id": "YKLCYsxca3wJ"
      },
      "source": [
        "Now, let's define our model. But first, let's quickly recap what a DQN is.\n",
        "\n",
        "## DQN algorithm\n",
        "\n",
        "Our environment is deterministic, so all equations presented here are\n",
        "also formulated deterministically for the sake of simplicity. In the\n",
        "reinforcement learning literature, they would also contain expectations\n",
        "over stochastic transitions in the environment.\n",
        "\n",
        "Our aim will be to train a policy that tries to maximize the discounted,\n",
        "cumulative reward\n",
        "$R_{t_0} = \\sum_{t=t_0}^{\\infty} \\gamma^{t - t_0} r_t$, where\n",
        "$R_{t_0}$ is also known as the *return*. The discount,\n",
        "$\\gamma$, should be a constant between $0$ and $1$\n",
        "that ensures the sum converges. A lower $\\gamma$ makes\n",
        "rewards from the uncertain far future less important for our agent\n",
        "than the ones in the near future that it can be fairly confident\n",
        "about. It also encourages agents to collect reward closer in time\n",
        "than equivalent rewards that are temporally far away in the future.\n",
        "\n",
        "The main idea behind Q-learning is that if we had a function\n",
        "$Q^*: State \\times Action \\rightarrow \\mathbb{R}$, that could tell\n",
        "us what our return would be, if we were to take an action in a given\n",
        "state, then we could easily construct a policy that maximizes our\n",
        "rewards:\n",
        "\n",
        "\\begin{align}\\pi^*(s) = \\arg\\!\\max_a \\ Q^*(s, a)\\end{align}\n",
        "\n",
        "However, we don't know everything about the world, so we don't have\n",
        "access to $Q^*$. But, since neural networks are universal function\n",
        "approximators, we can simply create one and train it to resemble\n",
        "$Q^*$.\n",
        "\n",
        "For our training update rule, we'll use a fact that every $Q$\n",
        "function for some policy obeys the Bellman equation:\n",
        "\n",
        "\\begin{align}Q^{\\pi}(s, a) = r + \\gamma Q^{\\pi}(s', \\pi(s'))\\end{align}\n",
        "\n",
        "The difference between the two sides of the equality is known as the\n",
        "temporal difference error, $\\delta$:\n",
        "\n",
        "\\begin{align}\\delta = Q(s, a) - (r + \\gamma \\max_a' Q(s', a))\\end{align}\n",
        "\n",
        "To minimize this error, we will use the [Huber\n",
        "loss](https://en.wikipedia.org/wiki/Huber_loss)_. The Huber loss acts\n",
        "like the mean squared error when the error is small, but like the mean\n",
        "absolute error when the error is large - this makes it more robust to\n",
        "outliers when the estimates of $Q$ are very noisy. We calculate\n",
        "this over a batch of transitions, $B$, sampled from the replay\n",
        "memory:\n",
        "\n",
        "\\begin{align}\\mathcal{L} = \\frac{1}{|B|}\\sum_{(s, a, s', r) \\ \\in \\ B} \\mathcal{L}(\\delta)\\end{align}\n",
        "\n",
        "\\begin{align}\\text{where} \\quad \\mathcal{L}(\\delta) = \\begin{cases}\n",
        "     \\frac{1}{2}{\\delta^2}  & \\text{for } |\\delta| \\le 1, \\\\\n",
        "     |\\delta| - \\frac{1}{2} & \\text{otherwise.}\n",
        "   \\end{cases}\\end{align}\n",
        "\n",
        "### Q-network\n",
        "\n",
        "Our model will be a feed forward  neural network that takes in the\n",
        "difference between the current and previous screen patches. It has two\n",
        "outputs, representing $Q(s, \\mathrm{left})$ and\n",
        "$Q(s, \\mathrm{right})$ (where $s$ is the input to the\n",
        "network). In effect, the network is trying to predict the *expected return* of\n",
        "taking each action given the current input.\n",
        "\n",
        "\n"
      ]
    },
    {
      "cell_type": "code",
      "execution_count": null,
      "metadata": {
        "id": "Ugi-KLl3a3wK"
      },
      "outputs": [],
      "source": [
        "class DQN(nn.Module):\n",
        "\n",
        "    def __init__(self, n_observations, n_actions):\n",
        "        super(DQN, self).__init__()\n",
        "        self.layer1 = nn.Linear(n_observations, 128)\n",
        "        self.layer2 = nn.Linear(128, 128)\n",
        "        self.layer3 = nn.Linear(128, n_actions)\n",
        "\n",
        "    # Called with either one element to determine next action, or a batch\n",
        "    # during optimization. Returns tensor([[left0exp,right0exp]...]).\n",
        "    def forward(self, x):\n",
        "        x = F.relu(self.layer1(x))\n",
        "        x = F.relu(self.layer2(x))\n",
        "        return self.layer3(x)"
      ]
    },
    {
      "cell_type": "markdown",
      "metadata": {
        "id": "qZNIltR5a3wL"
      },
      "source": [
        "## Training\n",
        "\n",
        "### Hyperparameters and utilities\n",
        "This cell instantiates our model and its optimizer, and defines some\n",
        "utilities:\n",
        "\n",
        "-  ``select_action`` - will select an action accordingly to an epsilon\n",
        "   greedy policy. Simply put, we'll sometimes use our model for choosing\n",
        "   the action, and sometimes we'll just sample one uniformly. The\n",
        "   probability of choosing a random action will start at ``EPS_START``\n",
        "   and will decay exponentially towards ``EPS_END``. ``EPS_DECAY``\n",
        "   controls the rate of the decay.\n",
        "-  ``plot_durations`` - a helper for plotting the duration of episodes,\n",
        "   along with an average over the last 100 episodes (the measure used in\n",
        "   the official evaluations). The plot will be underneath the cell\n",
        "   containing the main training loop, and will update after every\n",
        "   episode.\n",
        "\n",
        "\n"
      ]
    },
    {
      "cell_type": "code",
      "execution_count": null,
      "metadata": {
        "id": "xwtODl3da3wN"
      },
      "outputs": [],
      "source": [
        "# BATCH_SIZE is the number of transitions sampled from the replay buffer\n",
        "# GAMMA is the discount factor as mentioned in the previous section\n",
        "# EPS_START is the starting value of epsilon\n",
        "# EPS_END is the final value of epsilon\n",
        "# EPS_DECAY controls the rate of exponential decay of epsilon, higher means a slower decay\n",
        "# TAU is the update rate of the target network\n",
        "# LR is the learning rate of the ``AdamW`` optimizer\n",
        "BATCH_SIZE = 128\n",
        "GAMMA = 0.99\n",
        "EPS_START = 0.9\n",
        "EPS_END = 0.05\n",
        "EPS_DECAY = 1000\n",
        "TAU = 0.005\n",
        "LR = 1e-4\n",
        "\n",
        "# Get number of actions from gym action space\n",
        "n_actions = env.action_space.n\n",
        "# Get the number of state observations\n",
        "state, info = env.reset()\n",
        "n_observations = len(state)\n",
        "\n",
        "policy_net = DQN(n_observations, n_actions).to(device)\n",
        "target_net = DQN(n_observations, n_actions).to(device)\n",
        "target_net.load_state_dict(policy_net.state_dict())\n",
        "\n",
        "optimizer = optim.AdamW(policy_net.parameters(), lr=LR, amsgrad=True)\n",
        "memory = ReplayMemory(10000)\n",
        "\n",
        "\n",
        "steps_done = 0\n",
        "\n",
        "\n",
        "def select_action(state):\n",
        "    global steps_done\n",
        "    sample = random.random()\n",
        "    eps_threshold = EPS_END + (EPS_START - EPS_END) * \\\n",
        "        math.exp(-1. * steps_done / EPS_DECAY)\n",
        "    steps_done += 1\n",
        "    if sample > eps_threshold:\n",
        "        with torch.no_grad():\n",
        "            # t.max(1) will return the largest column value of each row.\n",
        "            # second column on max result is index of where max element was\n",
        "            # found, so we pick action with the larger expected reward.\n",
        "            return policy_net(state).max(1)[1].view(1, 1)\n",
        "    else:\n",
        "        return torch.tensor([[env.action_space.sample()]], device=device, dtype=torch.long)\n",
        "\n",
        "\n",
        "episode_durations = []\n",
        "\n",
        "\n",
        "def plot_durations(show_result=False):\n",
        "    plt.figure(1)\n",
        "    durations_t = torch.tensor(episode_durations, dtype=torch.float)\n",
        "    if show_result:\n",
        "        plt.title('Result')\n",
        "    else:\n",
        "        plt.clf()\n",
        "        plt.title('Training...')\n",
        "    plt.xlabel('Episode')\n",
        "    plt.ylabel('Duration')\n",
        "    plt.plot(durations_t.numpy())\n",
        "    # Take 100 episode averages and plot them too\n",
        "    if len(durations_t) >= 100:\n",
        "        means = durations_t.unfold(0, 100, 1).mean(1).view(-1)\n",
        "        means = torch.cat((torch.zeros(99), means))\n",
        "        plt.plot(means.numpy())\n",
        "\n",
        "    plt.pause(0.001)  # pause a bit so that plots are updated\n",
        "    if is_ipython:\n",
        "        if not show_result:\n",
        "            display.display(plt.gcf())\n",
        "            display.clear_output(wait=True)\n",
        "        else:\n",
        "            display.display(plt.gcf())"
      ]
    },
    {
      "cell_type": "markdown",
      "metadata": {
        "id": "J6DLGd2da3wP"
      },
      "source": [
        "### Training loop\n",
        "\n",
        "Finally, the code for training our model.\n",
        "\n",
        "Here, you can find an ``optimize_model`` function that performs a\n",
        "single step of the optimization. It first samples a batch, concatenates\n",
        "all the tensors into a single one, computes $Q(s_t, a_t)$ and\n",
        "$V(s_{t+1}) = \\max_a Q(s_{t+1}, a)$, and combines them into our\n",
        "loss. By definition we set $V(s) = 0$ if $s$ is a terminal\n",
        "state. We also use a target network to compute $V(s_{t+1})$ for\n",
        "added stability. The target network is updated at every step with a\n",
        "[soft update](https://arxiv.org/pdf/1509.02971.pdf)_ controlled by\n",
        "the hyperparameter ``TAU``, which was previously defined.\n",
        "\n",
        "\n"
      ]
    },
    {
      "cell_type": "code",
      "execution_count": null,
      "metadata": {
        "id": "jo4iikRZa3wP"
      },
      "outputs": [],
      "source": [
        "def optimize_model():\n",
        "    if len(memory) < BATCH_SIZE:\n",
        "        return\n",
        "    transitions = memory.sample(BATCH_SIZE)\n",
        "    # Transpose the batch (see https://stackoverflow.com/a/19343/3343043 for\n",
        "    # detailed explanation). This converts batch-array of Transitions\n",
        "    # to Transition of batch-arrays.\n",
        "    batch = Transition(*zip(*transitions))\n",
        "\n",
        "    # Compute a mask of non-final states and concatenate the batch elements\n",
        "    # (a final state would've been the one after which simulation ended)\n",
        "    non_final_mask = torch.tensor(tuple(map(lambda s: s is not None,\n",
        "                                          batch.next_state)), device=device, dtype=torch.bool)\n",
        "    non_final_next_states = torch.cat([s for s in batch.next_state\n",
        "                                                if s is not None])\n",
        "    state_batch = torch.cat(batch.state)\n",
        "    action_batch = torch.cat(batch.action)\n",
        "    reward_batch = torch.cat(batch.reward)\n",
        "\n",
        "    # Compute Q(s_t, a) - the model computes Q(s_t), then we select the\n",
        "    # columns of actions taken. These are the actions which would've been taken\n",
        "    # for each batch state according to policy_net\n",
        "    state_action_values = policy_net(state_batch).gather(1, action_batch)\n",
        "\n",
        "    # Compute V(s_{t+1}) for all next states.\n",
        "    # Expected values of actions for non_final_next_states are computed based\n",
        "    # on the \"older\" target_net; selecting their best reward with max(1)[0].\n",
        "    # This is merged based on the mask, such that we'll have either the expected\n",
        "    # state value or 0 in case the state was final.\n",
        "    next_state_values = torch.zeros(BATCH_SIZE, device=device)\n",
        "    with torch.no_grad():\n",
        "        next_state_values[non_final_mask] = target_net(non_final_next_states).max(1)[0]\n",
        "    # Compute the expected Q values\n",
        "    expected_state_action_values = (next_state_values * GAMMA) + reward_batch\n",
        "\n",
        "    # Compute Huber loss\n",
        "    criterion = nn.SmoothL1Loss()\n",
        "    loss = criterion(state_action_values, expected_state_action_values.unsqueeze(1))\n",
        "\n",
        "    # Optimize the model\n",
        "    optimizer.zero_grad()\n",
        "    loss.backward()\n",
        "    # In-place gradient clipping\n",
        "    torch.nn.utils.clip_grad_value_(policy_net.parameters(), 100)\n",
        "    optimizer.step()"
      ]
    },
    {
      "cell_type": "markdown",
      "metadata": {
        "id": "NF2u96HZa3wQ"
      },
      "source": [
        "Below, you can find the main training loop. At the beginning we reset\n",
        "the environment and obtain the initial ``state`` Tensor. Then, we sample\n",
        "an action, execute it, observe the next state and the reward (always\n",
        "1), and optimize our model once. When the episode ends (our model\n",
        "fails), we restart the loop.\n",
        "\n",
        "Below, `num_episodes` is set to 600 if a GPU is available, otherwise 50\n",
        "episodes are scheduled so training does not take too long. However, 50\n",
        "episodes is insufficient for to observe good performance on CartPole.\n",
        "You should see the model constantly achieve 500 steps within 600 training\n",
        "episodes. Training RL agents can be a noisy process, so restarting training\n",
        "can produce better results if convergence is not observed.\n",
        "\n",
        "\n"
      ]
    },
    {
      "cell_type": "code",
      "execution_count": null,
      "metadata": {
        "colab": {
          "base_uri": "https://localhost:8080/",
          "height": 524
        },
        "id": "r7aRaem5a3wR",
        "outputId": "b2c164c5-9ae0-43ac-c5ba-d1cb846f5964"
      },
      "outputs": [
        {
          "name": "stdout",
          "output_type": "stream",
          "text": [
            "Complete\n"
          ]
        },
        {
          "data": {
            "image/png": "[encoded data removed]",
            "text/plain": [
              "<Figure size 640x480 with 1 Axes>"
            ]
          },
          "metadata": {},
          "output_type": "display_data"
        },
        {
          "data": {
            "text/plain": [
              "<Figure size 640x480 with 0 Axes>"
            ]
          },
          "metadata": {},
          "output_type": "display_data"
        },
        {
          "data": {
            "text/plain": [
              "<Figure size 640x480 with 0 Axes>"
            ]
          },
          "metadata": {},
          "output_type": "display_data"
        }
      ],
      "source": [
        "if torch.cuda.is_available():\n",
        "    num_episodes = 100\n",
        "else:\n",
        "    num_episodes = 50\n",
        "\n",
        "for i_episode in range(num_episodes):\n",
        "    # Initialize the environment and get it's state\n",
        "    state, info = env.reset()\n",
        "    state = torch.tensor(state, dtype=torch.float32, device=device).unsqueeze(0)\n",
        "    for t in count():\n",
        "        action = select_action(state)\n",
        "        observation, reward, terminated, truncated, _ = env.step(action.item())\n",
        "        reward = torch.tensor([reward], device=device)\n",
        "        done = terminated or truncated\n",
        "\n",
        "        if terminated:\n",
        "            next_state = None\n",
        "        else:\n",
        "            next_state = torch.tensor(observation, dtype=torch.float32, device=device).unsqueeze(0)\n",
        "\n",
        "        # Store the transition in memory\n",
        "        memory.push(state, action, next_state, reward)\n",
        "\n",
        "        # Move to the next state\n",
        "        state = next_state\n",
        "\n",
        "        # Perform one step of the optimization (on the policy network)\n",
        "        optimize_model()\n",
        "\n",
        "        # Soft update of the target network's weights\n",
        "        # θ′ ← τ θ + (1 −τ )θ′\n",
        "        target_net_state_dict = target_net.state_dict()\n",
        "        policy_net_state_dict = policy_net.state_dict()\n",
        "        for key in policy_net_state_dict:\n",
        "            target_net_state_dict[key] = policy_net_state_dict[key]*TAU + target_net_state_dict[key]*(1-TAU)\n",
        "        target_net.load_state_dict(target_net_state_dict)\n",
        "\n",
        "        if done:\n",
        "            episode_durations.append(t + 1)\n",
        "            plot_durations()\n",
        "            break\n",
        "\n",
        "print('Complete')\n",
        "plot_durations(show_result=True)\n",
        "plt.ioff()\n",
        "plt.show()"
      ]
    },
    {
      "cell_type": "markdown",
      "metadata": {
        "id": "gIXGmshIa3wT"
      },
      "source": [
        "Actions are chosen either randomly or based on a policy, getting the next\n",
        "step sample from the gym environment. We record the results in the\n",
        "replay memory and also run optimization step on every iteration.\n",
        "Optimization picks a random batch from the replay memory to do training of the\n",
        "new policy. The \"older\" target_net is also used in optimization to compute the\n",
        "expected Q values. A soft update of its weights are performed at every step.\n",
        "\n",
        "\n"
      ]
    },
    {
      "cell_type": "markdown",
      "metadata": {
        "id": "0KxfzFC8ilo3"
      },
      "source": [
        "# Visualizing the Final Policy"
      ]
    },
    {
      "cell_type": "code",
      "execution_count": null,
      "metadata": {
        "colab": {
          "base_uri": "https://localhost:8080/",
          "height": 476
        },
        "id": "zGNc-Oo5b2x-",
        "outputId": "f4427510-b607-4e9f-b542-fc9f2d2acd4b"
      },
      "outputs": [
        {
          "name": "stderr",
          "output_type": "stream",
          "text": [
            "/usr/local/lib/python3.10/dist-packages/gymnasium/wrappers/rendering.py:283: UserWarning: \u001b[33mWARN: Overwriting existing videos at /content/video folder (try specifying a different `video_folder` for the `RecordVideo` wrapper if this is not desired)\u001b[0m\n",
            "  logger.warn(\n"
          ]
        },
        {
          "data": {
            "text/html": [
              "<video alt=\"test\" autoplay\n",
              "                loop controls style=\"height: 400px;\">\n",
              "                <source src=\"data:video/mp4;base64,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\" type=\"video/mp4\" />\n",
              "             </video>"
            ],
            "text/plain": [
              "<IPython.core.display.HTML object>"
            ]
          },
          "metadata": {},
          "output_type": "display_data"
        }
      ],
      "source": [
        "from pyvirtualdisplay import Display\n",
        "_display = Display(visible=0, size=(1400, 900))\n",
        "_display.start()\n",
        "\n",
        "from gymnasium.wrappers import RecordVideo\n",
        "\n",
        "\"\"\"\n",
        "Utility functions to enable video recording of gym environment and displaying it\n",
        "To enable video, just do \"env = wrap_env(env)\"\"\n",
        "\"\"\"\n",
        "\n",
        "def show_video():\n",
        "  mp4list = glob.glob('video/*.mp4')\n",
        "  if len(mp4list) > 0:\n",
        "    mp4 = mp4list[0]\n",
        "    video = io.open(mp4, 'r+b').read()\n",
        "    encoded = base64.b64encode(video)\n",
        "    display.display(HTML(data='''<video alt=\"test\" autoplay\n",
        "                loop controls style=\"height: 400px;\">\n",
        "                <source src=\"data:video/mp4;base64,{0}\" type=\"video/mp4\" />\n",
        "             </video>'''.format(encoded.decode('ascii'))))\n",
        "  else:\n",
        "    print(\"Could not find video\")\n",
        "\n",
        "\n",
        "def wrap_env(env):\n",
        "  env = RecordVideo(env, './video')\n",
        "  return env\n",
        "\n",
        "env = wrap_env(gym.make(\"CartPole-v1\", render_mode=\"rgb_array\"))\n",
        "#env = gym.make(\"CartPole-v1\", render_mode=\"rgb_array\")\n",
        "\n",
        "observation, info = env.reset()\n",
        "\n",
        "for _ in range(500):\n",
        "    action = select_action(torch.Tensor(observation).to(device).unsqueeze(0))\n",
        "    observation, reward, done, info, _ = env.step(action.item())\n",
        "\n",
        "    if done:\n",
        "        observation, info = env.reset()\n",
        "\n",
        "env.close()\n",
        "show_video()"
      ]
    },
    {
      "cell_type": "code",
      "execution_count": null,
      "metadata": {
        "id": "96q2LPqfgvA0"
      },
      "outputs": [],
      "source": []
    }
  ],
  "metadata": {
    "accelerator": "GPU",
    "colab": {
      "gpuType": "T4",
      "provenance": []
    },
    "kernelspec": {
      "display_name": "Python 3",
      "name": "python3"
    },
    "language_info": {
      "codemirror_mode": {
        "name": "ipython",
        "version": 3
      },
      "file_extension": ".py",
      "mimetype": "text/x-python",
      "name": "python",
      "nbconvert_exporter": "python",
      "pygments_lexer": "ipython3",
      "version": "3.10.13"
    }
  },
  "nbformat": 4,
  "nbformat_minor": 0
}